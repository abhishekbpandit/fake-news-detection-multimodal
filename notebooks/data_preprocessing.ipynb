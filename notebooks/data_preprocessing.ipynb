{
 "cells": [
  {
   "cell_type": "code",
   "execution_count": null,
   "id": "fae6736d-21cd-42f7-9771-2cdb4d21523f",
   "metadata": {},
   "outputs": [],
   "source": [
    "from google.cloud import storage\n",
    "from io import BytesIO\n",
    "\n",
    "import pandas as pd"
   ]
  },
  {
   "cell_type": "markdown",
   "id": "b053e174-6c41-4fa8-9c37-08014f18b2b0",
   "metadata": {},
   "source": [
    "## Read data from GCS"
   ]
  },
  {
   "cell_type": "code",
   "execution_count": 2,
   "id": "87fc92fc-6e41-432f-815d-835faf0cf11b",
   "metadata": {},
   "outputs": [],
   "source": [
    "def read_data_from_gcs(bucket_name, file_name):\n",
    "    storage_client = storage.Client()\n",
    "    bucket = storage_client.get_bucket(bucket_name)\n",
    "    blob = storage.Blob(file_name, bucket)\n",
    "    content = blob.download_as_text()  # downloads the file as text\n",
    "    data = pd.read_csv(BytesIO(content), sep='\\t')  # convert to dataframe\n",
    "    return data"
   ]
  },
  {
   "cell_type": "code",
   "execution_count": 3,
   "id": "1f162c9a-b02a-4451-8a11-98ee9e5fb7c3",
   "metadata": {},
   "outputs": [
    {
     "name": "stderr",
     "output_type": "stream",
     "text": [
      "/opt/conda/lib/python3.7/site-packages/IPython/core/interactiveshell.py:3553: DtypeWarning: Columns (0,1,2,3,4,5,6) have mixed types.Specify dtype option on import or set low_memory=False.\n",
      "  exec(code_obj, self.user_global_ns, self.user_ns)\n"
     ]
    }
   ],
   "source": [
    "bucket_name = 'fake-news-data'\n",
    "\n",
    "comments_df = pd.read_csv(f'gs://{bucket_name}/all_comments.tsv', sep='\\t')\n",
    "train_df = pd.read_csv(f'gs://{bucket_name}/multimodal_train.tsv', sep='\\t')\n",
    "validate_df = pd.read_csv(f'gs://{bucket_name}/multimodal_validate.tsv', sep='\\t')\n",
    "test_df = pd.read_csv(f'gs://{bucket_name}/multimodal_test_public.tsv', sep='\\t')"
   ]
  },
  {
   "cell_type": "code",
   "execution_count": 4,
   "id": "1135b9a7-3ab3-41c2-9a22-f4587f11903d",
   "metadata": {},
   "outputs": [],
   "source": [
    "def list_blobs(bucket_name, prefix):\n",
    "    storage_client = storage.Client()\n",
    "    blobs = storage_client.list_blobs(bucket_name, prefix=prefix)\n",
    "    return [blob.name.replace(prefix, '') for blob in blobs]\n",
    "\n",
    "downloaded_images = list_blobs('fake-news-data', 'images/public_image_set/')"
   ]
  },
  {
   "cell_type": "code",
   "execution_count": 5,
   "id": "c9704dfc-2015-44e8-a564-36caed59e99d",
   "metadata": {},
   "outputs": [],
   "source": [
    "downloaded_image_ids = [img.split('.')[0] for img in downloaded_images]"
   ]
  },
  {
   "cell_type": "markdown",
   "id": "3167dcc7-f90f-4c5b-9e35-2fc4303bc8fd",
   "metadata": {},
   "source": [
    "## Keep only rows that have a corresponding image associated with them"
   ]
  },
  {
   "cell_type": "code",
   "execution_count": 6,
   "id": "fbac5d91-e26e-4d10-b40e-7ec5f6c469fa",
   "metadata": {},
   "outputs": [],
   "source": [
    "train_df = train_df[train_df['id'].isin(downloaded_image_ids)]\n",
    "validate_df = validate_df[validate_df['id'].isin(downloaded_image_ids)]\n",
    "test_df = test_df[test_df['id'].isin(downloaded_image_ids)]"
   ]
  },
  {
   "cell_type": "markdown",
   "id": "e167ab5c-4bc1-4b66-a27b-b5e0cad83c51",
   "metadata": {},
   "source": [
    "## Check for NULL values"
   ]
  },
  {
   "cell_type": "code",
   "execution_count": 7,
   "id": "d0e31977-34ab-4ea3-b7fb-a1899ec2e287",
   "metadata": {},
   "outputs": [
    {
     "data": {
      "text/plain": [
       "author                   20276\n",
       "clean_title                  0\n",
       "created_utc                  0\n",
       "domain                  118222\n",
       "hasImage                     0\n",
       "id                           0\n",
       "image_url                 1091\n",
       "linked_submission_id    278239\n",
       "num_comments            118222\n",
       "score                        0\n",
       "subreddit                    0\n",
       "title                        0\n",
       "upvote_ratio            118222\n",
       "2_way_label                  0\n",
       "3_way_label                  0\n",
       "6_way_label                  0\n",
       "dtype: int64"
      ]
     },
     "execution_count": 7,
     "metadata": {},
     "output_type": "execute_result"
    }
   ],
   "source": [
    "train_df.isna().sum()"
   ]
  },
  {
   "cell_type": "markdown",
   "id": "a54d04bc-6d8d-4039-a648-9bc463eeda29",
   "metadata": {},
   "source": [
    "## Add comments related features to train, test and validation data frames"
   ]
  },
  {
   "cell_type": "code",
   "execution_count": 10,
   "id": "db6865f1-4e08-4d23-bdee-fe0113a31f6a",
   "metadata": {},
   "outputs": [],
   "source": [
    "def merge_df(df, features):\n",
    "    for feature in features:\n",
    "        df = pd.merge(df, feature, left_on='id', right_on='submission_id', how='left')\n",
    "    return df.drop(columns=['submission_id_x', 'submission_id_y'])"
   ]
  },
  {
   "cell_type": "code",
   "execution_count": 11,
   "id": "edb2d509-a7e5-4e47-bbfd-0ba383c6c392",
   "metadata": {},
   "outputs": [],
   "source": [
    "# total upvotes\n",
    "total_upvotes = comments_df.groupby('submission_id')['ups'].sum().reset_index(name='total_upvotes')\n",
    "\n",
    "# average upvotes\n",
    "avg_upvotes = comments_df.groupby('submission_id')['ups'].mean().reset_index(name='avg_upvotes')\n",
    "\n",
    "# most upvoted comment\n",
    "most_upvoted_comment = comments_df.loc[comments_df.groupby('submission_id')['ups'].idxmax()][['submission_id', 'body', 'ups']]\n",
    "most_upvoted_comment.columns = ['submission_id', 'most_upvoted_comment', 'upvotes_most_upvoted_comment']\n",
    "\n",
    "# merge these features with the main dataframes\n",
    "features = [total_upvotes, avg_upvotes, most_upvoted_comment]\n",
    "\n",
    "train_df = merge_df(train_df, features)\n",
    "test_df = merge_df(test_df, features)\n",
    "validate_df = merge_df(validate_df, features)"
   ]
  },
  {
   "cell_type": "code",
   "execution_count": 12,
   "id": "0d683fe9-adc0-466a-8d65-8e8e57df22e7",
   "metadata": {},
   "outputs": [
    {
     "data": {
      "text/html": [
       "<div>\n",
       "<style scoped>\n",
       "    .dataframe tbody tr th:only-of-type {\n",
       "        vertical-align: middle;\n",
       "    }\n",
       "\n",
       "    .dataframe tbody tr th {\n",
       "        vertical-align: top;\n",
       "    }\n",
       "\n",
       "    .dataframe thead th {\n",
       "        text-align: right;\n",
       "    }\n",
       "</style>\n",
       "<table border=\"1\" class=\"dataframe\">\n",
       "  <thead>\n",
       "    <tr style=\"text-align: right;\">\n",
       "      <th></th>\n",
       "      <th>author</th>\n",
       "      <th>clean_title</th>\n",
       "      <th>created_utc</th>\n",
       "      <th>domain</th>\n",
       "      <th>hasImage</th>\n",
       "      <th>id</th>\n",
       "      <th>image_url</th>\n",
       "      <th>linked_submission_id</th>\n",
       "      <th>num_comments</th>\n",
       "      <th>score</th>\n",
       "      <th>...</th>\n",
       "      <th>title</th>\n",
       "      <th>upvote_ratio</th>\n",
       "      <th>2_way_label</th>\n",
       "      <th>3_way_label</th>\n",
       "      <th>6_way_label</th>\n",
       "      <th>total_upvotes</th>\n",
       "      <th>avg_upvotes</th>\n",
       "      <th>submission_id</th>\n",
       "      <th>most_upvoted_comment</th>\n",
       "      <th>upvotes_most_upvoted_comment</th>\n",
       "    </tr>\n",
       "  </thead>\n",
       "  <tbody>\n",
       "    <tr>\n",
       "      <th>0</th>\n",
       "      <td>Alexithymia</td>\n",
       "      <td>my walgreens offbrand mucinex was engraved wit...</td>\n",
       "      <td>1.551641e+09</td>\n",
       "      <td>i.imgur.com</td>\n",
       "      <td>True</td>\n",
       "      <td>awxhir</td>\n",
       "      <td>https://external-preview.redd.it/WylDbZrnbvZdB...</td>\n",
       "      <td>NaN</td>\n",
       "      <td>2.0</td>\n",
       "      <td>12</td>\n",
       "      <td>...</td>\n",
       "      <td>My Walgreens offbrand Mucinex was engraved wit...</td>\n",
       "      <td>0.84</td>\n",
       "      <td>1</td>\n",
       "      <td>0</td>\n",
       "      <td>0</td>\n",
       "      <td>6.0</td>\n",
       "      <td>3.000000</td>\n",
       "      <td>awxhir</td>\n",
       "      <td>Does it help with Dyslexia?</td>\n",
       "      <td>3.0</td>\n",
       "    </tr>\n",
       "    <tr>\n",
       "      <th>1</th>\n",
       "      <td>VIDCAs17</td>\n",
       "      <td>this concerned sink with a tiny hat</td>\n",
       "      <td>1.534727e+09</td>\n",
       "      <td>i.redd.it</td>\n",
       "      <td>True</td>\n",
       "      <td>98pbid</td>\n",
       "      <td>https://preview.redd.it/wsfx0gp0f5h11.jpg?widt...</td>\n",
       "      <td>NaN</td>\n",
       "      <td>2.0</td>\n",
       "      <td>119</td>\n",
       "      <td>...</td>\n",
       "      <td>This concerned sink with a tiny hat</td>\n",
       "      <td>0.99</td>\n",
       "      <td>0</td>\n",
       "      <td>2</td>\n",
       "      <td>2</td>\n",
       "      <td>6.0</td>\n",
       "      <td>3.000000</td>\n",
       "      <td>98pbid</td>\n",
       "      <td>“Does this hat make my head look too big?”</td>\n",
       "      <td>4.0</td>\n",
       "    </tr>\n",
       "    <tr>\n",
       "      <th>2</th>\n",
       "      <td>NaN</td>\n",
       "      <td>puppy taking in the view</td>\n",
       "      <td>1.471341e+09</td>\n",
       "      <td>i.imgur.com</td>\n",
       "      <td>True</td>\n",
       "      <td>4xypkv</td>\n",
       "      <td>https://external-preview.redd.it/HLtVNhTR6wtYt...</td>\n",
       "      <td>NaN</td>\n",
       "      <td>26.0</td>\n",
       "      <td>250</td>\n",
       "      <td>...</td>\n",
       "      <td>PsBattle: Puppy taking in the view</td>\n",
       "      <td>0.95</td>\n",
       "      <td>1</td>\n",
       "      <td>0</td>\n",
       "      <td>0</td>\n",
       "      <td>119.0</td>\n",
       "      <td>4.576923</td>\n",
       "      <td>4xypkv</td>\n",
       "      <td>[EVERYTHING THE LIGHT TOUCHES IS OUR KINGDOM](...</td>\n",
       "      <td>22.0</td>\n",
       "    </tr>\n",
       "    <tr>\n",
       "      <th>3</th>\n",
       "      <td>3rikR3ith</td>\n",
       "      <td>i found a face in my sheet music too</td>\n",
       "      <td>1.525318e+09</td>\n",
       "      <td>i.redd.it</td>\n",
       "      <td>True</td>\n",
       "      <td>8gnet9</td>\n",
       "      <td>https://preview.redd.it/ri7ut2wn8kv01.jpg?widt...</td>\n",
       "      <td>NaN</td>\n",
       "      <td>2.0</td>\n",
       "      <td>13</td>\n",
       "      <td>...</td>\n",
       "      <td>I found a face in my sheet music too!</td>\n",
       "      <td>0.84</td>\n",
       "      <td>0</td>\n",
       "      <td>2</td>\n",
       "      <td>2</td>\n",
       "      <td>3.0</td>\n",
       "      <td>1.500000</td>\n",
       "      <td>8gnet9</td>\n",
       "      <td>That crescendo part at the top also kind of lo...</td>\n",
       "      <td>2.0</td>\n",
       "    </tr>\n",
       "    <tr>\n",
       "      <th>4</th>\n",
       "      <td>CrimsonBlue90</td>\n",
       "      <td>bride and groom exchange vows after fatal shoo...</td>\n",
       "      <td>1.423681e+09</td>\n",
       "      <td>independent.ie</td>\n",
       "      <td>True</td>\n",
       "      <td>2vkbtj</td>\n",
       "      <td>https://external-preview.redd.it/FQ-J9OIPFRpqi...</td>\n",
       "      <td>NaN</td>\n",
       "      <td>7.0</td>\n",
       "      <td>6</td>\n",
       "      <td>...</td>\n",
       "      <td>Bride and groom exchange vows after fatal shoo...</td>\n",
       "      <td>0.64</td>\n",
       "      <td>1</td>\n",
       "      <td>0</td>\n",
       "      <td>0</td>\n",
       "      <td>7.0</td>\n",
       "      <td>1.000000</td>\n",
       "      <td>2vkbtj</td>\n",
       "      <td>\"We planned this weding for more than a year. ...</td>\n",
       "      <td>5.0</td>\n",
       "    </tr>\n",
       "  </tbody>\n",
       "</table>\n",
       "<p>5 rows × 21 columns</p>\n",
       "</div>"
      ],
      "text/plain": [
       "          author                                        clean_title  \\\n",
       "0    Alexithymia  my walgreens offbrand mucinex was engraved wit...   \n",
       "1       VIDCAs17                this concerned sink with a tiny hat   \n",
       "2            NaN                           puppy taking in the view   \n",
       "3      3rikR3ith               i found a face in my sheet music too   \n",
       "4  CrimsonBlue90  bride and groom exchange vows after fatal shoo...   \n",
       "\n",
       "    created_utc          domain  hasImage      id  \\\n",
       "0  1.551641e+09     i.imgur.com      True  awxhir   \n",
       "1  1.534727e+09       i.redd.it      True  98pbid   \n",
       "2  1.471341e+09     i.imgur.com      True  4xypkv   \n",
       "3  1.525318e+09       i.redd.it      True  8gnet9   \n",
       "4  1.423681e+09  independent.ie      True  2vkbtj   \n",
       "\n",
       "                                           image_url linked_submission_id  \\\n",
       "0  https://external-preview.redd.it/WylDbZrnbvZdB...                  NaN   \n",
       "1  https://preview.redd.it/wsfx0gp0f5h11.jpg?widt...                  NaN   \n",
       "2  https://external-preview.redd.it/HLtVNhTR6wtYt...                  NaN   \n",
       "3  https://preview.redd.it/ri7ut2wn8kv01.jpg?widt...                  NaN   \n",
       "4  https://external-preview.redd.it/FQ-J9OIPFRpqi...                  NaN   \n",
       "\n",
       "   num_comments  score  ...  \\\n",
       "0           2.0     12  ...   \n",
       "1           2.0    119  ...   \n",
       "2          26.0    250  ...   \n",
       "3           2.0     13  ...   \n",
       "4           7.0      6  ...   \n",
       "\n",
       "                                               title upvote_ratio  \\\n",
       "0  My Walgreens offbrand Mucinex was engraved wit...         0.84   \n",
       "1                This concerned sink with a tiny hat         0.99   \n",
       "2                 PsBattle: Puppy taking in the view         0.95   \n",
       "3              I found a face in my sheet music too!         0.84   \n",
       "4  Bride and groom exchange vows after fatal shoo...         0.64   \n",
       "\n",
       "   2_way_label  3_way_label  6_way_label  total_upvotes  avg_upvotes  \\\n",
       "0            1            0            0            6.0     3.000000   \n",
       "1            0            2            2            6.0     3.000000   \n",
       "2            1            0            0          119.0     4.576923   \n",
       "3            0            2            2            3.0     1.500000   \n",
       "4            1            0            0            7.0     1.000000   \n",
       "\n",
       "   submission_id                               most_upvoted_comment  \\\n",
       "0         awxhir                        Does it help with Dyslexia?   \n",
       "1         98pbid         “Does this hat make my head look too big?”   \n",
       "2         4xypkv  [EVERYTHING THE LIGHT TOUCHES IS OUR KINGDOM](...   \n",
       "3         8gnet9  That crescendo part at the top also kind of lo...   \n",
       "4         2vkbtj  \"We planned this weding for more than a year. ...   \n",
       "\n",
       "  upvotes_most_upvoted_comment  \n",
       "0                          3.0  \n",
       "1                          4.0  \n",
       "2                         22.0  \n",
       "3                          2.0  \n",
       "4                          5.0  \n",
       "\n",
       "[5 rows x 21 columns]"
      ]
     },
     "execution_count": 12,
     "metadata": {},
     "output_type": "execute_result"
    }
   ],
   "source": [
    "train_df.head()"
   ]
  },
  {
   "cell_type": "markdown",
   "id": "a5a86d32-35c8-45e6-8b50-b1913ad053bb",
   "metadata": {},
   "source": [
    "## Upload processed dfs to GCS"
   ]
  },
  {
   "cell_type": "code",
   "execution_count": 13,
   "id": "11365d51-0d2e-461f-9a0e-a078baf18449",
   "metadata": {},
   "outputs": [
    {
     "name": "stdout",
     "output_type": "stream",
     "text": [
      "File train_df.csv uploaded to multimodal_train_processed.csv.\n",
      "File validate_df.csv uploaded to multimodal_validate_processed.csv.\n",
      "File test_df.csv uploaded to multimodal_test_public_processed.csv.\n"
     ]
    }
   ],
   "source": [
    "def upload_blob(bucket_name, source_file_name, destination_blob_name):\n",
    "    \"\"\"Uploads a file to the bucket.\"\"\"\n",
    "    # bucket_name = \"your-bucket-name\"\n",
    "    # source_file_name = \"local/path/to/file\"\n",
    "    # destination_blob_name = \"storage-object-name\"\n",
    "\n",
    "    storage_client = storage.Client()\n",
    "    bucket = storage_client.bucket(bucket_name)\n",
    "    blob = bucket.blob(destination_blob_name)\n",
    "\n",
    "    blob.upload_from_filename(source_file_name)\n",
    "\n",
    "    print(\n",
    "        \"File {} uploaded to {}.\".format(\n",
    "            source_file_name, destination_blob_name\n",
    "        )\n",
    "    )\n",
    "\n",
    "# save the dataframes to CSVs\n",
    "train_df.to_csv('train_df.csv', index=False)\n",
    "validate_df.to_csv('validate_df.csv', index=False)\n",
    "test_df.to_csv('test_df.csv', index=False)\n",
    "\n",
    "# upload the CSVs to GCS\n",
    "upload_blob('fake-news-data', 'train_df.csv', 'multimodal_train_processed.csv')\n",
    "upload_blob('fake-news-data', 'validate_df.csv', 'multimodal_validate_processed.csv')\n",
    "upload_blob('fake-news-data', 'test_df.csv', 'multimodal_test_public_processed.csv')"
   ]
  }
 ],
 "metadata": {
  "environment": {
   "kernel": "python3",
   "name": "common-cpu.m108",
   "type": "gcloud",
   "uri": "gcr.io/deeplearning-platform-release/base-cpu:m108"
  },
  "kernelspec": {
   "display_name": "Python 3 (ipykernel)",
   "language": "python",
   "name": "python3"
  }
 },
 "nbformat": 4,
 "nbformat_minor": 5
}
